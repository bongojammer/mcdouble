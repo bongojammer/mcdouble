{
 "cells": [
  {
   "cell_type": "code",
   "execution_count": 27,
   "id": "8270685c",
   "metadata": {
    "scrolled": true
   },
   "outputs": [
    {
     "name": "stdout",
     "output_type": "stream",
     "text": [
      "PyRosetta-4 2021 [Rosetta PyRosetta4.conda.mac.cxx11thread.serialization.python38.Release 2021.52+release.fad969a1e80536d5dcb37c38f45e65dbb9680b7c 2021-12-30T13:40:31] retrieved from: http://www.pyrosetta.org\n",
      "(C) Copyright Rosetta Commons Member Institutions. Created in JHU by Sergey Lyskov and PyRosetta Team.\n",
      "core.init: Checking for fconfig files in pwd and ./rosetta/flags\n",
      "core.init: Rosetta version: PyRosetta4.conda.mac.cxx11thread.serialization.python38.Release r307 2021.52+release.fad969a1e80 fad969a1e80536d5dcb37c38f45e65dbb9680b7c http://www.pyrosetta.org 2021-12-30T13:40:31\n",
      "core.init: command: PyRosetta -ex1 -ex2aro -database /Users/alice/opt/anaconda3/envs/pyrosetta_env/lib/python3.8/site-packages/pyrosetta/database\n",
      "basic.random.init_random_generator: 'RNG device' seed mode, using '/dev/urandom', seed=-1357013910 seed_offset=0 real_seed=-1357013910 thread_index=0\n",
      "basic.random.init_random_generator: RandomGenerator:init: Normal mode, seed=-1357013910 RG_type=mt19937\n"
     ]
    }
   ],
   "source": [
    "from pyrosetta import *\n",
    "init()\n",
    "\n",
    "import numpy as np\n",
    "import math"
   ]
  },
  {
   "cell_type": "code",
   "execution_count": 7,
   "id": "72fd55fe",
   "metadata": {
    "scrolled": true
   },
   "outputs": [
    {
     "name": "stdout",
     "output_type": "stream",
     "text": [
      "core.chemical.GlobalResidueTypeSet: Finished initializing fa_standard residue type set.  Created 983 residue types\n",
      "core.chemical.GlobalResidueTypeSet: Total time to initialize 1.06165 seconds.\n",
      "core.import_pose.import_pose: File '1ubq.clean.pdb' automatically determined to be of type PDB\n"
     ]
    },
    {
     "data": {
      "text/plain": [
       "175.79436394675338"
      ]
     },
     "execution_count": 7,
     "metadata": {},
     "output_type": "execute_result"
    }
   ],
   "source": [
    "#q1\n",
    "#Use the Vector objects to write a PyRosetta script to calculate torsion angles between four arbitrary atoms.  \n",
    "#Use your script to calculate the torsion angle for the peptide bond (i.e. the omega angle) connecting residue \n",
    "#4 and 5 in ubiquitin (pdb code 1ubq).  You may need to “clean” the 1ubq pdb file before using it in PyRosetta.\n",
    "#You can check your answer by using the torsion calculator in PyMol or using the pose.omega function in PyRosetta.  \n",
    "\n",
    "#from pyrosetta.toolbox import cleanATOM\n",
    "#cleanATOM(\"1ubq.pdb\")\n",
    "\n",
    "p = pose_from_pdb(\"1ubq.clean.pdb\")\n",
    "\n",
    "\n",
    "def torsionCal(a1,a2,a3,a4):\n",
    "    \n",
    "    v1 = a2.xyz() - a1.xyz()\n",
    "    v2 = a3.xyz() - a2.xyz()\n",
    "    v3 = a4.xyz() - a3.xyz()\n",
    "\n",
    "    n1 = v1.cross(v2)\n",
    "    n2 = v2.cross(v3)\n",
    "\n",
    "    tc = math.degrees(math.acos(n1.dot(n2)/(n1.norm()*n2.norm())))\n",
    "    return tc\n",
    "\n",
    "\n",
    "\n",
    "atom1 = p.residue(4).atom(\"CA\")\n",
    "atom2 = p.residue(4).atom(\"C\")\n",
    "atom3 = p.residue(5).atom(\"N\")\n",
    "atom4 = p.residue(5).atom(\"CA\")\n",
    "\n",
    "torsionCal(atom1,atom2,atom3,atom4)"
   ]
  },
  {
   "cell_type": "code",
   "execution_count": 11,
   "id": "0952f385",
   "metadata": {},
   "outputs": [
    {
     "data": {
      "text/plain": [
       "True"
      ]
     },
     "execution_count": 11,
     "metadata": {},
     "output_type": "execute_result"
    }
   ],
   "source": [
    "#q2\n",
    "p = pose_from_sequence(\"AAAAAAAAAAAAAAAAAAAA\",\"fa_standard\")\n",
    "pose.set_phi(1,-65)\n",
    "pose.set_psi(1,-40)\n",
    "pose.set_phi(2,-65)\n",
    "pose.set_psi(2,-40)\n",
    "pose.set_phi(3,-65)\n",
    "pose.set_psi(3,-40)\n",
    "pose.set_phi(4,-65)\n",
    "pose.set_psi(4,-40)\n",
    "pose.set_phi(5,-65)\n",
    "pose.set_psi(5,-40)\n",
    "pose.set_phi(6,-65)\n",
    "pose.set_psi(6,-40)\n",
    "pose.set_phi(7,-65)\n",
    "pose.set_psi(7,-40)\n",
    "pose.set_phi(8,-65)\n",
    "pose.set_psi(8,-40)\n",
    "pose.set_phi(9,-65)\n",
    "pose.set_psi(9,-40)\n",
    "pose.set_phi(10,-65)\n",
    "pose.set_psi(10,-40)\n",
    "pose.set_phi(11,-65)\n",
    "pose.set_psi(11,-40)\n",
    "pose.set_phi(12,-65)\n",
    "pose.set_psi(12,-40)\n",
    "pose.set_phi(13,-65)\n",
    "pose.set_psi(13,-40)\n",
    "pose.set_phi(14,-65)\n",
    "pose.set_psi(14,-40)\n",
    "pose.set_phi(15,-65)\n",
    "pose.set_psi(15,-40)\n",
    "pose.set_phi(16,-65)\n",
    "pose.set_psi(16,-40)\n",
    "pose.set_phi(17,-65)\n",
    "pose.set_psi(17,-40)\n",
    "pose.set_phi(18,-65)\n",
    "pose.set_psi(18,-40)\n",
    "pose.set_phi(19,-65)\n",
    "pose.set_psi(19,-40)\n",
    "pose.set_phi(20,-65)\n",
    "pose.set_psi(20,-40)\n",
    "p.dump_pdb(\"helix.pdb\")"
   ]
  },
  {
   "cell_type": "code",
   "execution_count": 12,
   "id": "1a52adfd",
   "metadata": {
    "scrolled": true
   },
   "outputs": [
    {
     "data": {
      "text/plain": [
       "True"
      ]
     },
     "execution_count": 12,
     "metadata": {},
     "output_type": "execute_result"
    }
   ],
   "source": [
    "#q3\n",
    "pose = pose_from_sequence(\"AAAAAAAAGGAAAAAAAA\",\"fa_standard\")\n",
    "pose.set_phi(1,-139)\n",
    "pose.set_psi(1,145)\n",
    "pose.set_phi(2,-139)\n",
    "pose.set_psi(2,145)\n",
    "pose.set_phi(3,-139)\n",
    "pose.set_psi(3,145)\n",
    "pose.set_phi(4,-139)\n",
    "pose.set_psi(4,145)\n",
    "pose.set_phi(5,-139)\n",
    "pose.set_psi(5,145)\n",
    "pose.set_phi(6,-139)\n",
    "pose.set_psi(6,145)\n",
    "pose.set_phi(7,-139)\n",
    "pose.set_psi(7,145)\n",
    "pose.set_phi(8,-139)\n",
    "pose.set_psi(8,145)\n",
    "pose.set_phi(9,60)\n",
    "pose.set_psi(9,-120)\n",
    "pose.set_phi(10,-80)\n",
    "pose.set_psi(10,0)\n",
    "pose.set_phi(11,-139)\n",
    "pose.set_psi(11,145)\n",
    "pose.set_phi(12,-139)\n",
    "pose.set_psi(12,145)\n",
    "pose.set_phi(13,-139)\n",
    "pose.set_psi(13,145)\n",
    "pose.set_phi(14,-139)\n",
    "pose.set_psi(14,145)\n",
    "pose.set_phi(15,-139)\n",
    "pose.set_psi(15,145)\n",
    "pose.set_phi(16,-139)\n",
    "pose.set_psi(16,145)\n",
    "pose.set_phi(17,-139)\n",
    "pose.set_psi(17,145)\n",
    "pose.set_phi(18,-139)\n",
    "pose.set_psi(18,145)\n",
    "pose.dump_pdb(\"hairpin.pdb\")\n"
   ]
  },
  {
   "cell_type": "code",
   "execution_count": 4,
   "id": "d7a1f57f",
   "metadata": {
    "scrolled": true
   },
   "outputs": [
    {
     "data": {
      "text/plain": [
       "['bcb717_hw2.ipynb',\n",
       " '.DS_Store',\n",
       " '.#hw2.py',\n",
       " 'hw2.py',\n",
       " 'helix.pdb',\n",
       " 'hairpin.pdb',\n",
       " 'pyrosetta_environment.yml~',\n",
       " '.ipynb_checkpoints',\n",
       " 'pyrosetta_environment.yml',\n",
       " 'pdbs',\n",
       " '#hw2.py#',\n",
       " '.git',\n",
       " '1ubq.clean.pdb']"
      ]
     },
     "execution_count": 4,
     "metadata": {},
     "output_type": "execute_result"
    }
   ],
   "source": [
    "import os\n",
    "os.listdir()"
   ]
  },
  {
   "cell_type": "code",
   "execution_count": 8,
   "id": "c39d2de2",
   "metadata": {},
   "outputs": [
    {
     "data": {
      "text/plain": [
       "'\\nimport os\\npath = \\'/Users/alice/pyrosetta_environment/pdbs\\'\\n\\ndef read_pdb_file(path):\\n    with open(path, \\'r\\') as f:\\n        print(f.read())\\n    return \\n\\nfor file in os.listdir(path):\\n        path = f\"{path}/{file}\"\\n        x = read_pdb_file(path);\\n        \\ntype(x)\\n'"
      ]
     },
     "execution_count": 8,
     "metadata": {},
     "output_type": "execute_result"
    }
   ],
   "source": [
    "#q4 \n",
    "'''\n",
    "import os\n",
    "path = '/Users/alice/pyrosetta_environment/pdbs'\n",
    "\n",
    "def read_pdb_file(path):\n",
    "    with open(path, 'r') as f:\n",
    "        print(f.read())\n",
    "    return \n",
    "\n",
    "for file in os.listdir(path):\n",
    "        path = f\"{path}/{file}\"\n",
    "        x = read_pdb_file(path);\n",
    "        \n",
    "type(x)\n",
    "'''"
   ]
  },
  {
   "cell_type": "code",
   "execution_count": 11,
   "id": "8f28195f",
   "metadata": {},
   "outputs": [],
   "source": [
    "#q4\n",
    "\n",
    "import os \n",
    "path = '/Users/alice/pyrosetta_environment/pdbs'\n",
    "\n",
    "#os.listdir(path)\n",
    "\n",
    "def count_alanines(fpath):\n",
    "    files = os.listdir(fpath)"
   ]
  },
  {
   "cell_type": "code",
   "execution_count": 13,
   "id": "e68663c3",
   "metadata": {},
   "outputs": [
    {
     "data": {
      "text/plain": [
       "[27, 45]"
      ]
     },
     "execution_count": 13,
     "metadata": {},
     "output_type": "execute_result"
    }
   ],
   "source": [
    "import re \n",
    "re.search(\"A\", p.sequence())\n",
    "[_.start() for _ in re.finditer(\"A\", p.sequence())]"
   ]
  },
  {
   "cell_type": "raw",
   "id": "c98b134c",
   "metadata": {},
   "source": []
  },
  {
   "cell_type": "code",
   "execution_count": 16,
   "id": "7a90e515",
   "metadata": {},
   "outputs": [],
   "source": [
    "def getStructure(pose, residue):\n",
    "    category = None\n",
    "    phi = pose.phi(residue)\n",
    "    psi = pose.psi(residue)\n",
    "    if phi < -50:\n",
    "        if psi < -25 and psi > -60:\n",
    "            category = \"alpha\"\n",
    "        elif psi > 90 and psi < 180:\n",
    "            category = \"beta\"\n",
    "    if category is None:\n",
    "        category = \"neither\"\n",
    "    return category"
   ]
  },
  {
   "cell_type": "code",
   "execution_count": 21,
   "id": "140a65f1",
   "metadata": {},
   "outputs": [
    {
     "name": "stdout",
     "output_type": "stream",
     "text": [
      "core.import_pose.import_pose: File '/Users/alice/pyrosetta_environment/pdbs/1vls.pdb' automatically determined to be of type PDB\n",
      "core.import_pose.import_pose: File '/Users/alice/pyrosetta_environment/pdbs/1acf.pdb' automatically determined to be of type PDB\n",
      "core.import_pose.import_pose: File '/Users/alice/pyrosetta_environment/pdbs/1jfv.pdb' automatically determined to be of type PDB\n",
      "core.import_pose.import_pose: File '/Users/alice/pyrosetta_environment/pdbs/1c7k.pdb' automatically determined to be of type PDB\n",
      "core.import_pose.import_pose: File '/Users/alice/pyrosetta_environment/pdbs/1e6i.pdb' automatically determined to be of type PDB\n",
      "core.import_pose.import_pose: File '/Users/alice/pyrosetta_environment/pdbs/1wgb.pdb' automatically determined to be of type PDB\n",
      "core.import_pose.import_pose: File '/Users/alice/pyrosetta_environment/pdbs/4icb.pdb' automatically determined to be of type PDB\n",
      "core.import_pose.import_pose: File '/Users/alice/pyrosetta_environment/pdbs/1o73.pdb' automatically determined to be of type PDB\n",
      "core.conformation.Conformation: Found disulfide between residues 40 43\n",
      "core.conformation.Conformation: current variant for 40 CYS\n",
      "core.conformation.Conformation: current variant for 43 CYS\n",
      "core.conformation.Conformation: current variant for 40 CYD\n",
      "core.conformation.Conformation: current variant for 43 CYD\n",
      "core.import_pose.import_pose: File '/Users/alice/pyrosetta_environment/pdbs/1srr.pdb' automatically determined to be of type PDB\n",
      "core.import_pose.import_pose: File '/Users/alice/pyrosetta_environment/pdbs/1a68.pdb' automatically determined to be of type PDB\n",
      "core.import_pose.import_pose: File '/Users/alice/pyrosetta_environment/pdbs/2hnf.pdb' automatically determined to be of type PDB\n",
      "core.import_pose.import_pose: File '/Users/alice/pyrosetta_environment/pdbs/2uzr.pdb' automatically determined to be of type PDB\n",
      "core.import_pose.import_pose: File '/Users/alice/pyrosetta_environment/pdbs/1who.pdb' automatically determined to be of type PDB\n",
      "core.import_pose.import_pose: File '/Users/alice/pyrosetta_environment/pdbs/1wjg.pdb' automatically determined to be of type PDB\n",
      "core.import_pose.import_pose: File '/Users/alice/pyrosetta_environment/pdbs/1b3a.pdb' automatically determined to be of type PDB\n",
      "core.import_pose.import_pose: File '/Users/alice/pyrosetta_environment/pdbs/1ptq.pdb' automatically determined to be of type PDB\n",
      "core.import_pose.import_pose: File '/Users/alice/pyrosetta_environment/pdbs/2hng.pdb' automatically determined to be of type PDB\n",
      "core.import_pose.import_pose: File '/Users/alice/pyrosetta_environment/pdbs/2fls.pdb' automatically determined to be of type PDB\n",
      "core.import_pose.import_pose: File '/Users/alice/pyrosetta_environment/pdbs/5cro.pdb' automatically determined to be of type PDB\n",
      "core.import_pose.import_pose: File '/Users/alice/pyrosetta_environment/pdbs/1gvp.pdb' automatically determined to be of type PDB\n",
      "core.import_pose.import_pose: File '/Users/alice/pyrosetta_environment/pdbs/1poh.pdb' automatically determined to be of type PDB\n",
      "core.import_pose.import_pose: File '/Users/alice/pyrosetta_environment/pdbs/1c8c.pdb' automatically determined to be of type PDB\n",
      "core.import_pose.import_pose: File '/Users/alice/pyrosetta_environment/pdbs/1pxu.pdb' automatically determined to be of type PDB\n",
      "core.conformation.Conformation: Found disulfide between residues 2 74\n",
      "core.conformation.Conformation: current variant for 2 CYS\n",
      "core.conformation.Conformation: current variant for 74 CYS\n",
      "core.conformation.Conformation: current variant for 2 CYD\n",
      "core.conformation.Conformation: current variant for 74 CYD\n",
      "core.import_pose.import_pose: File '/Users/alice/pyrosetta_environment/pdbs/1ew4.pdb' automatically determined to be of type PDB\n",
      "core.import_pose.import_pose: File '/Users/alice/pyrosetta_environment/pdbs/1s12.pdb' automatically determined to be of type PDB\n",
      "core.import_pose.import_pose: File '/Users/alice/pyrosetta_environment/pdbs/1qgv.pdb' automatically determined to be of type PDB\n",
      "core.import_pose.import_pose: File '/Users/alice/pyrosetta_environment/pdbs/1o7u.pdb' automatically determined to be of type PDB\n",
      "core.conformation.Conformation: Found disulfide between residues 38 41\n",
      "core.conformation.Conformation: current variant for 38 CYS\n",
      "core.conformation.Conformation: current variant for 41 CYS\n",
      "core.conformation.Conformation: current variant for 38 CYD\n",
      "core.conformation.Conformation: current variant for 41 CYD\n",
      "core.import_pose.import_pose: File '/Users/alice/pyrosetta_environment/pdbs/1h75.pdb' automatically determined to be of type PDB\n",
      "core.conformation.Conformation: Found disulfide between residues 11 14\n",
      "core.conformation.Conformation: current variant for 11 CYS\n",
      "core.conformation.Conformation: current variant for 14 CYS\n",
      "core.conformation.Conformation: current variant for 11 CYD\n",
      "core.conformation.Conformation: current variant for 14 CYD\n",
      "core.import_pose.import_pose: File '/Users/alice/pyrosetta_environment/pdbs/1mgw.pdb' automatically determined to be of type PDB\n",
      "core.import_pose.import_pose: File '/Users/alice/pyrosetta_environment/pdbs/1t2i.pdb' automatically determined to be of type PDB\n",
      "core.conformation.Conformation: Found disulfide between residues 7 96\n",
      "core.conformation.Conformation: current variant for 7 CYS\n",
      "core.conformation.Conformation: current variant for 96 CYS\n",
      "core.conformation.Conformation: current variant for 7 CYD\n",
      "core.conformation.Conformation: current variant for 96 CYD\n",
      "core.import_pose.import_pose: File '/Users/alice/pyrosetta_environment/pdbs/1u5z.pdb' automatically determined to be of type PDB\n",
      "core.conformation.Conformation: Found disulfide between residues 81 89\n",
      "core.conformation.Conformation: current variant for 81 CYS\n",
      "core.conformation.Conformation: current variant for 89 CYS\n",
      "core.conformation.Conformation: current variant for 81 CYD\n",
      "core.conformation.Conformation: current variant for 89 CYD\n",
      "core.import_pose.import_pose: File '/Users/alice/pyrosetta_environment/pdbs/1ynv.pdb' automatically determined to be of type PDB\n",
      "core.conformation.Conformation: Found disulfide between residues 7 96\n",
      "core.conformation.Conformation: current variant for 7 CYS\n",
      "core.conformation.Conformation: current variant for 96 CYS\n",
      "core.conformation.Conformation: current variant for 7 CYD\n",
      "core.conformation.Conformation: current variant for 96 CYD\n",
      "core.import_pose.import_pose: File '/Users/alice/pyrosetta_environment/pdbs/1prq.pdb' automatically determined to be of type PDB\n",
      "core.import_pose.import_pose: File '/Users/alice/pyrosetta_environment/pdbs/1xd6.pdb' automatically determined to be of type PDB\n",
      "core.conformation.Conformation: Found disulfide between residues 29 52\n",
      "core.conformation.Conformation: current variant for 29 CYS\n",
      "core.conformation.Conformation: current variant for 52 CYS\n",
      "core.conformation.Conformation: current variant for 29 CYD\n",
      "core.conformation.Conformation: current variant for 52 CYD\n",
      "core.import_pose.import_pose: File '/Users/alice/pyrosetta_environment/pdbs/2cbm.pdb' automatically determined to be of type PDB\n",
      "core.conformation.Conformation: Found disulfide between residues 88 93\n",
      "core.conformation.Conformation: current variant for 88 CYS\n",
      "core.conformation.Conformation: current variant for 93 CYS\n",
      "core.conformation.Conformation: current variant for 88 CYD\n",
      "core.conformation.Conformation: current variant for 93 CYD\n",
      "core.import_pose.import_pose: File '/Users/alice/pyrosetta_environment/pdbs/2he4.pdb' automatically determined to be of type PDB\n",
      "core.import_pose.import_pose: File '/Users/alice/pyrosetta_environment/pdbs/2o7k.pdb' automatically determined to be of type PDB\n",
      "core.conformation.Conformation: Found disulfide between residues 28 31\n",
      "core.conformation.Conformation: current variant for 28 CYS\n",
      "core.conformation.Conformation: current variant for 31 CYS\n",
      "core.conformation.Conformation: current variant for 28 CYD\n",
      "core.conformation.Conformation: current variant for 31 CYD\n",
      "core.import_pose.import_pose: File '/Users/alice/pyrosetta_environment/pdbs/1t2j.pdb' automatically determined to be of type PDB\n",
      "core.conformation.Conformation: Found disulfide between residues 22 96\n",
      "core.conformation.Conformation: current variant for 22 CYS\n",
      "core.conformation.Conformation: current variant for 96 CYS\n",
      "core.conformation.Conformation: current variant for 22 CYD\n"
     ]
    },
    {
     "name": "stdout",
     "output_type": "stream",
     "text": [
      "core.conformation.Conformation: current variant for 96 CYD\n",
      "core.import_pose.import_pose: File '/Users/alice/pyrosetta_environment/pdbs/2ib0.pdb' automatically determined to be of type PDB\n",
      "core.import_pose.import_pose: File '/Users/alice/pyrosetta_environment/pdbs/1bm8.pdb' automatically determined to be of type PDB\n",
      "core.import_pose.import_pose: File '/Users/alice/pyrosetta_environment/pdbs/1thx.pdb' automatically determined to be of type PDB\n",
      "core.conformation.Conformation: Found disulfide between residues 32 35\n",
      "core.conformation.Conformation: current variant for 32 CYS\n",
      "core.conformation.Conformation: current variant for 35 CYS\n",
      "core.conformation.Conformation: current variant for 32 CYD\n",
      "core.conformation.Conformation: current variant for 35 CYD\n",
      "core.import_pose.import_pose: File '/Users/alice/pyrosetta_environment/pdbs/1a32.pdb' automatically determined to be of type PDB\n",
      "core.import_pose.import_pose: File '/Users/alice/pyrosetta_environment/pdbs/1scj.pdb' automatically determined to be of type PDB\n",
      "core.import_pose.import_pose: File '/Users/alice/pyrosetta_environment/pdbs/2acy.pdb' automatically determined to be of type PDB\n",
      "core.import_pose.import_pose: File '/Users/alice/pyrosetta_environment/pdbs/2hh6.pdb' automatically determined to be of type PDB\n",
      "core.import_pose.import_pose: File '/Users/alice/pyrosetta_environment/pdbs/2icp.pdb' automatically determined to be of type PDB\n",
      "core.import_pose.import_pose: File '/Users/alice/pyrosetta_environment/pdbs/2i9c.pdb' automatically determined to be of type PDB\n",
      "core.import_pose.import_pose: File '/Users/alice/pyrosetta_environment/pdbs/1ig5.pdb' automatically determined to be of type PDB\n",
      "core.import_pose.import_pose: File '/Users/alice/pyrosetta_environment/pdbs/1ubi.pdb' automatically determined to be of type PDB\n",
      "core.import_pose.import_pose: File '/Users/alice/pyrosetta_environment/pdbs/1zd0.pdb' automatically determined to be of type PDB\n",
      "core.conformation.Conformation: Found disulfide between residues 45 128\n",
      "core.conformation.Conformation: current variant for 45 CYS\n",
      "core.conformation.Conformation: current variant for 128 CYS\n",
      "core.conformation.Conformation: current variant for 45 CYD\n",
      "core.conformation.Conformation: current variant for 128 CYD\n",
      "core.import_pose.import_pose: File '/Users/alice/pyrosetta_environment/pdbs/1fna.pdb' automatically determined to be of type PDB\n",
      "core.import_pose.import_pose: File '/Users/alice/pyrosetta_environment/pdbs/1a19.pdb' automatically determined to be of type PDB\n",
      "core.import_pose.import_pose: File '/Users/alice/pyrosetta_environment/pdbs/4ubp.pdb' automatically determined to be of type PDB\n",
      "core.import_pose.import_pose: File '/Users/alice/pyrosetta_environment/pdbs/1utg.pdb' automatically determined to be of type PDB\n",
      "core.import_pose.import_pose: File '/Users/alice/pyrosetta_environment/pdbs/1l6p.pdb' automatically determined to be of type PDB\n",
      "core.import_pose.import_pose: File '/Users/alice/pyrosetta_environment/pdbs/1mjc.pdb' automatically determined to be of type PDB\n",
      "core.import_pose.import_pose: File '/Users/alice/pyrosetta_environment/pdbs/1ten.pdb' automatically determined to be of type PDB\n",
      "core.import_pose.import_pose: File '/Users/alice/pyrosetta_environment/pdbs/2hsh.pdb' automatically determined to be of type PDB\n",
      "core.conformation.Conformation: Found disulfide between residues 32 35\n",
      "core.conformation.Conformation: current variant for 32 CYS\n",
      "core.conformation.Conformation: current variant for 35 CYS\n",
      "core.conformation.Conformation: current variant for 32 CYD\n",
      "core.conformation.Conformation: current variant for 35 CYD\n",
      "core.import_pose.import_pose: File '/Users/alice/pyrosetta_environment/pdbs/1aiu.pdb' automatically determined to be of type PDB\n",
      "core.import_pose.import_pose: File '/Users/alice/pyrosetta_environment/pdbs/1lou.pdb' automatically determined to be of type PDB\n",
      "core.import_pose.import_pose: File '/Users/alice/pyrosetta_environment/pdbs/1wou.pdb' automatically determined to be of type PDB\n",
      "core.conformation.Conformation: Found disulfide between residues 40 43\n",
      "core.conformation.Conformation: current variant for 40 CYS\n",
      "core.conformation.Conformation: current variant for 43 CYS\n",
      "core.conformation.Conformation: current variant for 40 CYD\n",
      "core.conformation.Conformation: current variant for 43 CYD\n",
      "core.import_pose.import_pose: File '/Users/alice/pyrosetta_environment/pdbs/1pgx.pdb' automatically determined to be of type PDB\n",
      "core.import_pose.import_pose: File '/Users/alice/pyrosetta_environment/pdbs/1ubq.pdb' automatically determined to be of type PDB\n",
      "core.import_pose.import_pose: File '/Users/alice/pyrosetta_environment/pdbs/1unr.pdb' automatically determined to be of type PDB\n",
      "core.import_pose.import_pose: File '/Users/alice/pyrosetta_environment/pdbs/1vkk.pdb' automatically determined to be of type PDB\n",
      "core.import_pose.import_pose: File '/Users/alice/pyrosetta_environment/pdbs/1ail.pdb' automatically determined to be of type PDB\n",
      "core.import_pose.import_pose: File '/Users/alice/pyrosetta_environment/pdbs/1faa.pdb' automatically determined to be of type PDB\n",
      "core.conformation.Conformation: Found disulfide between residues 46 49\n",
      "core.conformation.Conformation: current variant for 46 CYS\n",
      "core.conformation.Conformation: current variant for 49 CYS\n",
      "core.conformation.Conformation: current variant for 46 CYD\n",
      "core.conformation.Conformation: current variant for 49 CYD\n",
      "core.import_pose.import_pose: File '/Users/alice/pyrosetta_environment/pdbs/1tit.pdb' automatically determined to be of type PDB\n",
      "core.import_pose.import_pose: File '/Users/alice/pyrosetta_environment/pdbs/1unp.pdb' automatically determined to be of type PDB\n",
      "core.import_pose.import_pose: File '/Users/alice/pyrosetta_environment/pdbs/1kpe.pdb' automatically determined to be of type PDB\n",
      "core.import_pose.import_pose: File '/Users/alice/pyrosetta_environment/pdbs/1bmg.pdb' automatically determined to be of type PDB\n",
      "core.conformation.Conformation: Found disulfide between residues 25 79\n",
      "core.conformation.Conformation: current variant for 25 CYS\n",
      "core.conformation.Conformation: current variant for 79 CYS\n",
      "core.conformation.Conformation: current variant for 25 CYD\n",
      "core.conformation.Conformation: current variant for 79 CYD\n",
      "core.import_pose.import_pose: File '/Users/alice/pyrosetta_environment/pdbs/2hkv.pdb' automatically determined to be of type PDB\n",
      "core.import_pose.import_pose: File '/Users/alice/pyrosetta_environment/pdbs/2ccv.pdb' automatically determined to be of type PDB\n",
      "core.conformation.Conformation: Found disulfide between residues 9 80\n",
      "core.conformation.Conformation: current variant for 9 CYS\n",
      "core.conformation.Conformation: current variant for 80 CYS\n",
      "core.conformation.Conformation: current variant for 9 CYD\n",
      "core.conformation.Conformation: current variant for 80 CYD\n",
      "core.import_pose.import_pose: File '/Users/alice/pyrosetta_environment/pdbs/1tif.pdb' automatically determined to be of type PDB\n",
      "core.import_pose.import_pose: File '/Users/alice/pyrosetta_environment/pdbs/1opd.pdb' automatically determined to be of type PDB\n",
      "core.import_pose.import_pose: File '/Users/alice/pyrosetta_environment/pdbs/1wty.pdb' automatically determined to be of type PDB\n",
      "core.import_pose.import_pose: File '/Users/alice/pyrosetta_environment/pdbs/1r26.pdb' automatically determined to be of type PDB\n",
      "core.import_pose.import_pose: File '/Users/alice/pyrosetta_environment/pdbs/1rki.pdb' automatically determined to be of type PDB\n",
      "core.conformation.Conformation: Found disulfide between residues 22 34\n",
      "core.conformation.Conformation: current variant for 22 CYS\n",
      "core.conformation.Conformation: current variant for 34 CYS\n",
      "core.conformation.Conformation: current variant for 22 CYD\n",
      "core.conformation.Conformation: current variant for 34 CYD\n",
      "core.conformation.Conformation: Found disulfide between residues 24 54\n",
      "core.conformation.Conformation: current variant for 24 CYS\n",
      "core.conformation.Conformation: current variant for 54 CYS\n",
      "core.conformation.Conformation: current variant for 24 CYD\n",
      "core.conformation.Conformation: current variant for 54 CYD\n",
      "core.conformation.Conformation: Found disulfide between residues 80 83\n",
      "core.conformation.Conformation: current variant for 80 CYS\n",
      "core.conformation.Conformation: current variant for 83 CYS\n",
      "core.conformation.Conformation: current variant for 80 CYD\n"
     ]
    },
    {
     "name": "stdout",
     "output_type": "stream",
     "text": [
      "core.conformation.Conformation: current variant for 83 CYD\n",
      "core.import_pose.import_pose: File '/Users/alice/pyrosetta_environment/pdbs/1cei.pdb' automatically determined to be of type PDB\n",
      "core.import_pose.import_pose: File '/Users/alice/pyrosetta_environment/pdbs/1tig.pdb' automatically determined to be of type PDB\n",
      "core.import_pose.import_pose: File '/Users/alice/pyrosetta_environment/pdbs/1hz6.pdb' automatically determined to be of type PDB\n",
      "core.import_pose.import_pose: File '/Users/alice/pyrosetta_environment/pdbs/2hsb.pdb' automatically determined to be of type PDB\n",
      "core.import_pose.import_pose: File '/Users/alice/pyrosetta_environment/pdbs/2cmx.pdb' automatically determined to be of type PDB\n",
      "core.conformation.Conformation: Found disulfide between residues 48 55\n",
      "core.conformation.Conformation: current variant for 48 CYS\n",
      "core.conformation.Conformation: current variant for 55 CYS\n",
      "core.conformation.Conformation: current variant for 48 CYD\n",
      "core.conformation.Conformation: current variant for 55 CYD\n",
      "core.import_pose.import_pose: File '/Users/alice/pyrosetta_environment/pdbs/1vie.pdb' automatically determined to be of type PDB\n",
      "core.import_pose.import_pose: File '/Users/alice/pyrosetta_environment/pdbs/1dzo.pdb' automatically determined to be of type PDB\n",
      "core.conformation.Conformation: Found disulfide between residues 105 118\n",
      "core.conformation.Conformation: current variant for 105 CYS\n",
      "core.conformation.Conformation: current variant for 118 CYS\n",
      "core.conformation.Conformation: current variant for 105 CYD\n",
      "core.conformation.Conformation: current variant for 118 CYD\n",
      "core.import_pose.import_pose: File '/Users/alice/pyrosetta_environment/pdbs/2h28.pdb' automatically determined to be of type PDB\n",
      "core.import_pose.import_pose: File '/Users/alice/pyrosetta_environment/pdbs/1cg5.pdb' automatically determined to be of type PDB\n",
      "core.import_pose.import_pose: File '/Users/alice/pyrosetta_environment/pdbs/1lve.pdb' automatically determined to be of type PDB\n",
      "core.import_pose.import_pose: File '/Users/alice/pyrosetta_environment/pdbs/1iib.pdb' automatically determined to be of type PDB\n",
      "core.import_pose.import_pose: File '/Users/alice/pyrosetta_environment/pdbs/1fkb.pdb' automatically determined to be of type PDB\n",
      "core.import_pose.import_pose: File '/Users/alice/pyrosetta_environment/pdbs/1a8o.pdb' automatically determined to be of type PDB\n",
      "core.import_pose.import_pose: File '/Users/alice/pyrosetta_environment/pdbs/2hbo.pdb' automatically determined to be of type PDB\n",
      "core.import_pose.import_pose: File '/Users/alice/pyrosetta_environment/pdbs/1ugh.pdb' automatically determined to be of type PDB\n",
      "core.import_pose.import_pose: File '/Users/alice/pyrosetta_environment/pdbs/256b.pdb' automatically determined to be of type PDB\n",
      "core.import_pose.import_pose: File '/Users/alice/pyrosetta_environment/pdbs/1gu3.pdb' automatically determined to be of type PDB\n",
      "core.import_pose.import_pose: File '/Users/alice/pyrosetta_environment/pdbs/1vcc.pdb' automatically determined to be of type PDB\n",
      "core.import_pose.import_pose: File '/Users/alice/pyrosetta_environment/pdbs/2apb.pdb' automatically determined to be of type PDB\n",
      "core.conformation.Conformation: Found disulfide between residues 23 91\n",
      "core.conformation.Conformation: current variant for 23 CYS\n",
      "core.conformation.Conformation: current variant for 91 CYS\n",
      "core.conformation.Conformation: current variant for 23 CYD\n",
      "core.conformation.Conformation: current variant for 91 CYD\n",
      "core.import_pose.import_pose: File '/Users/alice/pyrosetta_environment/pdbs/2chf.pdb' automatically determined to be of type PDB\n",
      "core.import_pose.import_pose: File '/Users/alice/pyrosetta_environment/pdbs/1tul.pdb' automatically determined to be of type PDB\n",
      "core.import_pose.import_pose: File '/Users/alice/pyrosetta_environment/pdbs/1o4w.pdb' automatically determined to be of type PDB\n",
      "core.conformation.Conformation: Found disulfide between residues 4 91\n",
      "core.conformation.Conformation: current variant for 4 CYS\n",
      "core.conformation.Conformation: current variant for 91 CYS\n",
      "core.conformation.Conformation: current variant for 4 CYD\n",
      "core.conformation.Conformation: current variant for 91 CYD\n",
      "core.import_pose.import_pose: File '/Users/alice/pyrosetta_environment/pdbs/1tza.pdb' automatically determined to be of type PDB\n",
      "core.import_pose.import_pose: File '/Users/alice/pyrosetta_environment/pdbs/2d4f.pdb' automatically determined to be of type PDB\n",
      "core.conformation.Conformation: Found disulfide between residues 26 81\n",
      "core.conformation.Conformation: current variant for 26 CYS\n",
      "core.conformation.Conformation: current variant for 81 CYS\n",
      "core.conformation.Conformation: current variant for 26 CYD\n",
      "core.conformation.Conformation: current variant for 81 CYD\n",
      "core.import_pose.import_pose: File '/Users/alice/pyrosetta_environment/pdbs/1cc8.pdb' automatically determined to be of type PDB\n",
      "core.import_pose.import_pose: File '/Users/alice/pyrosetta_environment/pdbs/1bkr.pdb' automatically determined to be of type PDB\n",
      "core.import_pose.import_pose: File '/Users/alice/pyrosetta_environment/pdbs/1rnb.pdb' automatically determined to be of type PDB\n",
      "core.import_pose.import_pose: File '/Users/alice/pyrosetta_environment/pdbs/1bgf.pdb' automatically determined to be of type PDB\n",
      "core.import_pose.import_pose: File '/Users/alice/pyrosetta_environment/pdbs/1npu.pdb' automatically determined to be of type PDB\n",
      "core.import_pose.import_pose: File '/Users/alice/pyrosetta_environment/pdbs/1wit.pdb' automatically determined to be of type PDB\n",
      "core.import_pose.import_pose: File '/Users/alice/pyrosetta_environment/pdbs/1r69.pdb' automatically determined to be of type PDB\n",
      "core.import_pose.import_pose: File '/Users/alice/pyrosetta_environment/pdbs/1bk2.pdb' automatically determined to be of type PDB\n",
      "core.import_pose.import_pose: File '/Users/alice/pyrosetta_environment/pdbs/1dhn.pdb' automatically determined to be of type PDB\n",
      "core.import_pose.import_pose: File '/Users/alice/pyrosetta_environment/pdbs/1ctf.pdb' automatically determined to be of type PDB\n",
      "core.import_pose.import_pose: File '/Users/alice/pyrosetta_environment/pdbs/2hx5.pdb' automatically determined to be of type PDB\n",
      "core.import_pose.import_pose: File '/Users/alice/pyrosetta_environment/pdbs/1c9o.pdb' automatically determined to be of type PDB\n",
      "core.import_pose.import_pose: File '/Users/alice/pyrosetta_environment/pdbs/2hcm.pdb' automatically determined to be of type PDB\n",
      "core.import_pose.import_pose: File '/Users/alice/pyrosetta_environment/pdbs/2i1u.pdb' automatically determined to be of type PDB\n",
      "core.conformation.Conformation: Found disulfide between residues 31 34\n",
      "core.conformation.Conformation: current variant for 31 CYS\n",
      "core.conformation.Conformation: current variant for 34 CYS\n",
      "core.conformation.Conformation: current variant for 31 CYD\n",
      "core.conformation.Conformation: current variant for 34 CYD\n",
      "core.import_pose.import_pose: File '/Users/alice/pyrosetta_environment/pdbs/2iiy.pdb' automatically determined to be of type PDB\n",
      "core.conformation.Conformation: Found disulfide between residues 32 35\n",
      "core.conformation.Conformation: current variant for 32 CYS\n",
      "core.conformation.Conformation: current variant for 35 CYS\n",
      "core.conformation.Conformation: current variant for 32 CYD\n",
      "core.conformation.Conformation: current variant for 35 CYD\n",
      "core.import_pose.import_pose: File '/Users/alice/pyrosetta_environment/pdbs/1wd6.pdb' automatically determined to be of type PDB\n",
      "core.import_pose.import_pose: File '/Users/alice/pyrosetta_environment/pdbs/1wdv.pdb' automatically determined to be of type PDB\n",
      "core.import_pose.import_pose: File '/Users/alice/pyrosetta_environment/pdbs/1urn.pdb' automatically determined to be of type PDB\n",
      "core.import_pose.import_pose: File '/Users/alice/pyrosetta_environment/pdbs/1bq9.pdb' automatically determined to be of type PDB\n",
      "core.import_pose.import_pose: File '/Users/alice/pyrosetta_environment/pdbs/1shf.pdb' automatically determined to be of type PDB\n",
      "core.import_pose.import_pose: File '/Users/alice/pyrosetta_environment/pdbs/2vik.pdb' automatically determined to be of type PDB\n",
      "core.import_pose.import_pose: File '/Users/alice/pyrosetta_environment/pdbs/2ci2.pdb' automatically determined to be of type PDB\n",
      "core.import_pose.import_pose: File '/Users/alice/pyrosetta_environment/pdbs/1o5u.pdb' automatically determined to be of type PDB\n"
     ]
    },
    {
     "name": "stdout",
     "output_type": "stream",
     "text": [
      "core.import_pose.import_pose: File '/Users/alice/pyrosetta_environment/pdbs/2hl7.pdb' automatically determined to be of type PDB\n",
      "core.conformation.Conformation: Found disulfide between residues 29 32\n",
      "core.conformation.Conformation: current variant for 29 CYS\n",
      "core.conformation.Conformation: current variant for 32 CYS\n",
      "core.conformation.Conformation: current variant for 29 CYD\n",
      "core.conformation.Conformation: current variant for 32 CYD\n",
      "core.import_pose.import_pose: File '/Users/alice/pyrosetta_environment/pdbs/1nps.pdb' automatically determined to be of type PDB\n",
      "core.import_pose.import_pose: File '/Users/alice/pyrosetta_environment/pdbs/1lis.pdb' automatically determined to be of type PDB\n",
      "core.import_pose.import_pose: File '/Users/alice/pyrosetta_environment/pdbs/1py9.pdb' automatically determined to be of type PDB\n",
      "core.conformation.Conformation: Found disulfide between residues 23 97\n",
      "core.conformation.Conformation: current variant for 23 CYS\n",
      "core.conformation.Conformation: current variant for 97 CYS\n",
      "core.conformation.Conformation: current variant for 23 CYD\n",
      "core.conformation.Conformation: current variant for 97 CYD\n",
      "core.import_pose.import_pose: File '/Users/alice/pyrosetta_environment/pdbs/1eyv.pdb' automatically determined to be of type PDB\n",
      "core.import_pose.import_pose: File '/Users/alice/pyrosetta_environment/pdbs/1enh.pdb' automatically determined to be of type PDB\n",
      "core.import_pose.import_pose: File '/Users/alice/pyrosetta_environment/pdbs/1elw.pdb' automatically determined to be of type PDB\n",
      "core.import_pose.import_pose: File '/Users/alice/pyrosetta_environment/pdbs/1ttz.pdb' automatically determined to be of type PDB\n"
     ]
    }
   ],
   "source": [
    "path = '/Users/alice/pyrosetta_environment/pdbs/'\n",
    "\n",
    "files = os.listdir(path)\n",
    "pdblist = [pyrosetta.pose_from_file(path + file) for file in files]"
   ]
  },
  {
   "cell_type": "code",
   "execution_count": 22,
   "id": "3f2268b7",
   "metadata": {},
   "outputs": [],
   "source": [
    "def getAA(pose, aa):\n",
    "    matches = re.finditer(aa, pose.sequence())\n",
    "    positions = [match.start() + 1 for match in matches]\n",
    "    return positions"
   ]
  },
  {
   "cell_type": "code",
   "execution_count": 24,
   "id": "a20d4ff3",
   "metadata": {},
   "outputs": [],
   "source": [
    "ala_list = []\n",
    "for pdb in pdblist:\n",
    "    ala_pos = getAA(pdb,\"A\")\n",
    "    for pos in ala_pos:\n",
    "        label = getStructure(pdb, pos)\n",
    "        ala_list.append(label)"
   ]
  },
  {
   "cell_type": "code",
   "execution_count": 28,
   "id": "5ea40cbe",
   "metadata": {},
   "outputs": [],
   "source": [
    "all_res = []\n",
    "for pdb in pdblist:\n",
    "    seq_len = len(pdb.sequence())\n",
    "    for i in range(1, seq_len + 1):\n",
    "        all_res.append(getStructure(pdb,i))"
   ]
  },
  {
   "cell_type": "code",
   "execution_count": 29,
   "id": "f39efe44",
   "metadata": {},
   "outputs": [
    {
     "data": {
      "text/plain": [
       "0.11876270038383382"
      ]
     },
     "execution_count": 29,
     "metadata": {},
     "output_type": "execute_result"
    }
   ],
   "source": [
    "n_alpha_total = np.sum(np.array(all_res) == \"alpha\")\n",
    "n_alpha_ala = np.sum(np.array(ala_list) == \"alpha\")\n",
    "n_alpha_ala / n_alpha_total"
   ]
  },
  {
   "cell_type": "code",
   "execution_count": 30,
   "id": "9dabd59d",
   "metadata": {},
   "outputs": [
    {
     "data": {
      "text/plain": [
       "0.061616337929830685"
      ]
     },
     "execution_count": 30,
     "metadata": {},
     "output_type": "execute_result"
    }
   ],
   "source": [
    "n_beta_total = np.sum(np.array(all_res) == \"beta\")\n",
    "n_beta_ala = np.sum(np.array(ala_list) == \"beta\")\n",
    "n_beta_ala / n_beta_total"
   ]
  },
  {
   "cell_type": "code",
   "execution_count": 34,
   "id": "42062a85",
   "metadata": {},
   "outputs": [
    {
     "data": {
      "text/plain": [
       "0.480365296803653"
      ]
     },
     "execution_count": 34,
     "metadata": {},
     "output_type": "execute_result"
    }
   ],
   "source": [
    "a_val = np.sum(np.array(ala_list) == \"alpha\")/len(ala_list)\n",
    "a_val"
   ]
  },
  {
   "cell_type": "code",
   "execution_count": 35,
   "id": "635b1766",
   "metadata": {},
   "outputs": [
    {
     "data": {
      "text/plain": [
       "0.3223744292237443"
      ]
     },
     "execution_count": 35,
     "metadata": {},
     "output_type": "execute_result"
    }
   ],
   "source": [
    "b_val = np.sum(np.array(ala_list) == \"beta\")/len(ala_list)\n",
    "b_val"
   ]
  },
  {
   "cell_type": "code",
   "execution_count": 33,
   "id": "f3d83ef1",
   "metadata": {},
   "outputs": [
    {
     "data": {
      "text/plain": [
       "1.490084985835694"
      ]
     },
     "execution_count": 33,
     "metadata": {},
     "output_type": "execute_result"
    }
   ],
   "source": [
    "a_val / b_val"
   ]
  }
 ],
 "metadata": {
  "kernelspec": {
   "display_name": "Python 3 (ipykernel)",
   "language": "python",
   "name": "python3"
  },
  "language_info": {
   "codemirror_mode": {
    "name": "ipython",
    "version": 3
   },
   "file_extension": ".py",
   "mimetype": "text/x-python",
   "name": "python",
   "nbconvert_exporter": "python",
   "pygments_lexer": "ipython3",
   "version": "3.8.12"
  }
 },
 "nbformat": 4,
 "nbformat_minor": 5
}
