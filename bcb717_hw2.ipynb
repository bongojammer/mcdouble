{
 "cells": [
  {
   "cell_type": "code",
   "execution_count": 8,
   "id": "8d8afaaf",
   "metadata": {
    "scrolled": true
   },
   "outputs": [
    {
     "name": "stdout",
     "output_type": "stream",
     "text": [
      "PyRosetta-4 2021 [Rosetta PyRosetta4.conda.mac.cxx11thread.serialization.python38.Release 2021.52+release.fad969a1e80536d5dcb37c38f45e65dbb9680b7c 2021-12-30T13:40:31] retrieved from: http://www.pyrosetta.org\n",
      "(C) Copyright Rosetta Commons Member Institutions. Created in JHU by Sergey Lyskov and PyRosetta Team.\n",
      "core.init: Checking for fconfig files in pwd and ./rosetta/flags\n",
      "core.init: Rosetta version: PyRosetta4.conda.mac.cxx11thread.serialization.python38.Release r307 2021.52+release.fad969a1e80 fad969a1e80536d5dcb37c38f45e65dbb9680b7c http://www.pyrosetta.org 2021-12-30T13:40:31\n",
      "core.init: command: PyRosetta -ex1 -ex2aro -database /Users/alice/opt/anaconda3/envs/pyrosetta_env/lib/python3.8/site-packages/pyrosetta/database\n",
      "basic.random.init_random_generator: 'RNG device' seed mode, using '/dev/urandom', seed=819936103 seed_offset=0 real_seed=819936103 thread_index=0\n",
      "basic.random.init_random_generator: RandomGenerator:init: Normal mode, seed=819936103 RG_type=mt19937\n"
     ]
    }
   ],
   "source": [
    "from pyrosetta import *\n",
    "init()"
   ]
  },
  {
   "cell_type": "code",
   "execution_count": 18,
   "id": "16bf004c",
   "metadata": {
    "scrolled": true
   },
   "outputs": [
    {
     "name": "stdout",
     "output_type": "stream",
     "text": [
      "core.import_pose.import_pose: File '1ubq.clean.pdb' automatically determined to be of type PDB\n",
      "PDB file name: 1ubq.clean.pdb\n",
      "Total residues: 76\n",
      "Sequence: MQIFVKTLTGKTITLEVEPSDTIENVKAKIQDKEGIPPDQQRLIFAGKQLEDGRTLSDYNIQKESTLHLVLRLRGG\n",
      "Fold tree:\n",
      "FOLD_TREE  EDGE 1 76 -1 \n",
      "MQIFVKTLTGKTITLEVEPSDTIENVKAKIQDKEGIPPDQQRLIFAGKQLEDGRTLSDYNIQKESTLHLVLRLRGG\n",
      "Protein has 20 residues.\n",
      "1.9408060758578167\n",
      "2.108357649142687\n"
     ]
    }
   ],
   "source": [
    "#q1\n",
    "from pyrosetta.toolbox import cleanATOM\n",
    "cleanATOM(\"1ubq.pdb\")\n",
    "\n",
    "pose = pose_from_pdb(\"1ubq.clean.pdb\")\n",
    "print(pose)\n",
    "print(pose.sequence())\n",
    "\n",
    "\n",
    "print(\"Protein has\", p.total_residue(), \"residues.\")\n",
    "\n",
    "\n",
    "R5N = AtomID(1,5)\n",
    "R5CA = AtomID(2,5)\n",
    "R5C = AtomID(3,5)\n",
    "R5N2 = AtomID(4,5)\n",
    "\n",
    "\n",
    "\n",
    "v1 = p.conformation().bond_angle(R5N,R5CA,R5C)\n",
    "v2 = p.conformation().bond_angle(R5CA,R5C,R5N2)\n",
    "\n",
    "print(v1)\n",
    "print(v2)\n",
    "\n",
    "v4 = (v1 *v2) / (abs(v1)*abs(v2))"
   ]
  },
  {
   "cell_type": "code",
   "execution_count": 11,
   "id": "6775dca1",
   "metadata": {},
   "outputs": [
    {
     "data": {
      "text/plain": [
       "True"
      ]
     },
     "execution_count": 11,
     "metadata": {},
     "output_type": "execute_result"
    }
   ],
   "source": [
    "#q2\n",
    "p = pose_from_sequence(\"AAAAAAAAAAAAAAAAAAAA\",\"fa_standard\")\n",
    "pose.set_phi(1,-65)\n",
    "pose.set_psi(1,-40)\n",
    "pose.set_phi(2,-65)\n",
    "pose.set_psi(2,-40)\n",
    "pose.set_phi(3,-65)\n",
    "pose.set_psi(3,-40)\n",
    "pose.set_phi(4,-65)\n",
    "pose.set_psi(4,-40)\n",
    "pose.set_phi(5,-65)\n",
    "pose.set_psi(5,-40)\n",
    "pose.set_phi(6,-65)\n",
    "pose.set_psi(6,-40)\n",
    "pose.set_phi(7,-65)\n",
    "pose.set_psi(7,-40)\n",
    "pose.set_phi(8,-65)\n",
    "pose.set_psi(8,-40)\n",
    "pose.set_phi(9,-65)\n",
    "pose.set_psi(9,-40)\n",
    "pose.set_phi(10,-65)\n",
    "pose.set_psi(10,-40)\n",
    "pose.set_phi(11,-65)\n",
    "pose.set_psi(11,-40)\n",
    "pose.set_phi(12,-65)\n",
    "pose.set_psi(12,-40)\n",
    "pose.set_phi(13,-65)\n",
    "pose.set_psi(13,-40)\n",
    "pose.set_phi(14,-65)\n",
    "pose.set_psi(14,-40)\n",
    "pose.set_phi(15,-65)\n",
    "pose.set_psi(15,-40)\n",
    "pose.set_phi(16,-65)\n",
    "pose.set_psi(16,-40)\n",
    "pose.set_phi(17,-65)\n",
    "pose.set_psi(17,-40)\n",
    "pose.set_phi(18,-65)\n",
    "pose.set_psi(18,-40)\n",
    "pose.set_phi(19,-65)\n",
    "pose.set_psi(19,-40)\n",
    "pose.set_phi(20,-65)\n",
    "pose.set_psi(20,-40)\n",
    "p.dump_pdb(\"helix.pdb\")"
   ]
  },
  {
   "cell_type": "code",
   "execution_count": 12,
   "id": "be7beb73",
   "metadata": {},
   "outputs": [
    {
     "data": {
      "text/plain": [
       "True"
      ]
     },
     "execution_count": 12,
     "metadata": {},
     "output_type": "execute_result"
    }
   ],
   "source": [
    "#q3\n",
    "pose = pose_from_sequence(\"AAAAAAAAGGAAAAAAAA\",\"fa_standard\")\n",
    "pose.set_phi(1,-139)\n",
    "pose.set_psi(1,145)\n",
    "pose.set_phi(2,-139)\n",
    "pose.set_psi(2,145)\n",
    "pose.set_phi(3,-139)\n",
    "pose.set_psi(3,145)\n",
    "pose.set_phi(4,-139)\n",
    "pose.set_psi(4,145)\n",
    "pose.set_phi(5,-139)\n",
    "pose.set_psi(5,145)\n",
    "pose.set_phi(6,-139)\n",
    "pose.set_psi(6,145)\n",
    "pose.set_phi(7,-139)\n",
    "pose.set_psi(7,145)\n",
    "pose.set_phi(8,-139)\n",
    "pose.set_psi(8,145)\n",
    "pose.set_phi(9,60)\n",
    "pose.set_psi(9,-120)\n",
    "pose.set_phi(10,-80)\n",
    "pose.set_psi(10,0)\n",
    "pose.set_phi(11,-139)\n",
    "pose.set_psi(11,145)\n",
    "pose.set_phi(12,-139)\n",
    "pose.set_psi(12,145)\n",
    "pose.set_phi(13,-139)\n",
    "pose.set_psi(13,145)\n",
    "pose.set_phi(14,-139)\n",
    "pose.set_psi(14,145)\n",
    "pose.set_phi(15,-139)\n",
    "pose.set_psi(15,145)\n",
    "pose.set_phi(16,-139)\n",
    "pose.set_psi(16,145)\n",
    "pose.set_phi(17,-139)\n",
    "pose.set_psi(17,145)\n",
    "pose.set_phi(18,-139)\n",
    "pose.set_psi(18,145)\n",
    "pose.dump_pdb(\"hairpin.pdb\")\n"
   ]
  },
  {
   "cell_type": "code",
   "execution_count": null,
   "id": "850c3e83",
   "metadata": {},
   "outputs": [],
   "source": [
    "#q4 \n",
    "\n",
    "P_alpha_ala = N_alpha_ala / N_alpha_total "
   ]
  }
 ],
 "metadata": {
  "kernelspec": {
   "display_name": "Python 3 (ipykernel)",
   "language": "python",
   "name": "python3"
  },
  "language_info": {
   "codemirror_mode": {
    "name": "ipython",
    "version": 3
   },
   "file_extension": ".py",
   "mimetype": "text/x-python",
   "name": "python",
   "nbconvert_exporter": "python",
   "pygments_lexer": "ipython3",
   "version": "3.8.12"
  }
 },
 "nbformat": 4,
 "nbformat_minor": 5
}
