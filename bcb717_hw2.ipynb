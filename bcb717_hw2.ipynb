{
 "cells": [
  {
   "cell_type": "code",
   "execution_count": 8,
   "id": "8270685c",
   "metadata": {
    "scrolled": true
   },
   "outputs": [
    {
     "name": "stdout",
     "output_type": "stream",
     "text": [
      "PyRosetta-4 2021 [Rosetta PyRosetta4.conda.mac.cxx11thread.serialization.python38.Release 2021.52+release.fad969a1e80536d5dcb37c38f45e65dbb9680b7c 2021-12-30T13:40:31] retrieved from: http://www.pyrosetta.org\n",
      "(C) Copyright Rosetta Commons Member Institutions. Created in JHU by Sergey Lyskov and PyRosetta Team.\n",
      "core.init: Checking for fconfig files in pwd and ./rosetta/flags\n",
      "core.init: Rosetta version: PyRosetta4.conda.mac.cxx11thread.serialization.python38.Release r307 2021.52+release.fad969a1e80 fad969a1e80536d5dcb37c38f45e65dbb9680b7c http://www.pyrosetta.org 2021-12-30T13:40:31\n",
      "core.init: command: PyRosetta -ex1 -ex2aro -database /Users/alice/opt/anaconda3/envs/pyrosetta_env/lib/python3.8/site-packages/pyrosetta/database\n",
      "basic.random.init_random_generator: 'RNG device' seed mode, using '/dev/urandom', seed=819936103 seed_offset=0 real_seed=819936103 thread_index=0\n",
      "basic.random.init_random_generator: RandomGenerator:init: Normal mode, seed=819936103 RG_type=mt19937\n"
     ]
    }
   ],
   "source": [
    "from pyrosetta import *\n",
    "init()"
   ]
  },
  {
   "cell_type": "code",
   "execution_count": 19,
   "id": "72fd55fe",
   "metadata": {
    "scrolled": true
   },
   "outputs": [
    {
     "name": "stdout",
     "output_type": "stream",
     "text": [
      "core.import_pose.import_pose: File '1ubq.clean.pdb' automatically determined to be of type PDB\n"
     ]
    },
    {
     "data": {
      "text/plain": [
       "175.79436394675338"
      ]
     },
     "execution_count": 19,
     "metadata": {},
     "output_type": "execute_result"
    }
   ],
   "source": [
    "#q1\n",
    "import math\n",
    "from pyrosetta.toolbox import cleanATOM\n",
    "cleanATOM(\"1ubq.pdb\")\n",
    "\n",
    "p = pose_from_pdb(\"1ubq.clean.pdb\")\n",
    "\n",
    "def torsionCal(a1,a2,a3,a4):\n",
    "    vect1 = a2.xyz()- a1.xyz()\n",
    "    vect2 = a3.xyz()- a2.xyz()\n",
    "    vect3 = a4.xyz()- a3.xyz()\n",
    "\n",
    "    n1 = vect1.cross(vect2)\n",
    "    n2 = vect2.cross(vect3)\n",
    "\n",
    "    import math\n",
    "    tc = math.degrees(math.acos(n1.dot(n2)/(n1.norm()*n2.norm())))\n",
    "    return tc\n",
    "\n",
    "first_atom = p.residue(4).atom(\"CA\")\n",
    "second_atom =p.residue(4).atom(\"C\")\n",
    "third_atom = p.residue(5).atom(\"N\")\n",
    "fourth_atom =p.residue(5).atom(\"CA\")\n",
    "\n",
    "torsionCal(first_atom,second_atom,third_atom,fourth_atom)"
   ]
  },
  {
   "cell_type": "code",
   "execution_count": 11,
   "id": "0952f385",
   "metadata": {},
   "outputs": [
    {
     "data": {
      "text/plain": [
       "True"
      ]
     },
     "execution_count": 11,
     "metadata": {},
     "output_type": "execute_result"
    }
   ],
   "source": [
    "#q2\n",
    "p = pose_from_sequence(\"AAAAAAAAAAAAAAAAAAAA\",\"fa_standard\")\n",
    "pose.set_phi(1,-65)\n",
    "pose.set_psi(1,-40)\n",
    "pose.set_phi(2,-65)\n",
    "pose.set_psi(2,-40)\n",
    "pose.set_phi(3,-65)\n",
    "pose.set_psi(3,-40)\n",
    "pose.set_phi(4,-65)\n",
    "pose.set_psi(4,-40)\n",
    "pose.set_phi(5,-65)\n",
    "pose.set_psi(5,-40)\n",
    "pose.set_phi(6,-65)\n",
    "pose.set_psi(6,-40)\n",
    "pose.set_phi(7,-65)\n",
    "pose.set_psi(7,-40)\n",
    "pose.set_phi(8,-65)\n",
    "pose.set_psi(8,-40)\n",
    "pose.set_phi(9,-65)\n",
    "pose.set_psi(9,-40)\n",
    "pose.set_phi(10,-65)\n",
    "pose.set_psi(10,-40)\n",
    "pose.set_phi(11,-65)\n",
    "pose.set_psi(11,-40)\n",
    "pose.set_phi(12,-65)\n",
    "pose.set_psi(12,-40)\n",
    "pose.set_phi(13,-65)\n",
    "pose.set_psi(13,-40)\n",
    "pose.set_phi(14,-65)\n",
    "pose.set_psi(14,-40)\n",
    "pose.set_phi(15,-65)\n",
    "pose.set_psi(15,-40)\n",
    "pose.set_phi(16,-65)\n",
    "pose.set_psi(16,-40)\n",
    "pose.set_phi(17,-65)\n",
    "pose.set_psi(17,-40)\n",
    "pose.set_phi(18,-65)\n",
    "pose.set_psi(18,-40)\n",
    "pose.set_phi(19,-65)\n",
    "pose.set_psi(19,-40)\n",
    "pose.set_phi(20,-65)\n",
    "pose.set_psi(20,-40)\n",
    "p.dump_pdb(\"helix.pdb\")"
   ]
  },
  {
   "cell_type": "code",
   "execution_count": 12,
   "id": "1a52adfd",
   "metadata": {},
   "outputs": [
    {
     "data": {
      "text/plain": [
       "True"
      ]
     },
     "execution_count": 12,
     "metadata": {},
     "output_type": "execute_result"
    }
   ],
   "source": [
    "#q3\n",
    "pose = pose_from_sequence(\"AAAAAAAAGGAAAAAAAA\",\"fa_standard\")\n",
    "pose.set_phi(1,-139)\n",
    "pose.set_psi(1,145)\n",
    "pose.set_phi(2,-139)\n",
    "pose.set_psi(2,145)\n",
    "pose.set_phi(3,-139)\n",
    "pose.set_psi(3,145)\n",
    "pose.set_phi(4,-139)\n",
    "pose.set_psi(4,145)\n",
    "pose.set_phi(5,-139)\n",
    "pose.set_psi(5,145)\n",
    "pose.set_phi(6,-139)\n",
    "pose.set_psi(6,145)\n",
    "pose.set_phi(7,-139)\n",
    "pose.set_psi(7,145)\n",
    "pose.set_phi(8,-139)\n",
    "pose.set_psi(8,145)\n",
    "pose.set_phi(9,60)\n",
    "pose.set_psi(9,-120)\n",
    "pose.set_phi(10,-80)\n",
    "pose.set_psi(10,0)\n",
    "pose.set_phi(11,-139)\n",
    "pose.set_psi(11,145)\n",
    "pose.set_phi(12,-139)\n",
    "pose.set_psi(12,145)\n",
    "pose.set_phi(13,-139)\n",
    "pose.set_psi(13,145)\n",
    "pose.set_phi(14,-139)\n",
    "pose.set_psi(14,145)\n",
    "pose.set_phi(15,-139)\n",
    "pose.set_psi(15,145)\n",
    "pose.set_phi(16,-139)\n",
    "pose.set_psi(16,145)\n",
    "pose.set_phi(17,-139)\n",
    "pose.set_psi(17,145)\n",
    "pose.set_phi(18,-139)\n",
    "pose.set_psi(18,145)\n",
    "pose.dump_pdb(\"hairpin.pdb\")\n"
   ]
  },
  {
   "cell_type": "code",
   "execution_count": null,
   "id": "c39d2de2",
   "metadata": {},
   "outputs": [],
   "source": [
    "#q4 \n",
    "\n",
    "P_alpha_ala = N_alpha_ala / N_alpha_total "
   ]
  }
 ],
 "metadata": {
  "kernelspec": {
   "display_name": "Python 3 (ipykernel)",
   "language": "python",
   "name": "python3"
  },
  "language_info": {
   "codemirror_mode": {
    "name": "ipython",
    "version": 3
   },
   "file_extension": ".py",
   "mimetype": "text/x-python",
   "name": "python",
   "nbconvert_exporter": "python",
   "pygments_lexer": "ipython3",
   "version": "3.8.12"
  }
 },
 "nbformat": 4,
 "nbformat_minor": 5
}
